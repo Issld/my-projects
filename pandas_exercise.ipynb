{
  "cells": [
    {
      "cell_type": "markdown",
      "metadata": {
        "id": "a4-Lv403xyOP"
      },
      "source": [
        "# Основы машинного обучения: лабораторная работа №1\n",
        "## Задание 3. Знакомство с Pandas\n",
        "\n",
        "В этом задании необходимо научиться базовым приемам работы с данными. Необходимо загрузить заданный по варианту датасет, провести разведочный анализ данных, сформулировать гипотезы о возможном значении всех полей в датасете, проверить эти гипотезы, и ответить на вопросы по данным. <!-- Если в конкретном задании не указано иное, проводить очистку данных (удаление пустых и невалидных значений) не нужно. -->\n",
        "\n",
        "### Цель\n",
        "\n",
        "Знакомство с разведочным анализом данных и применение Pandas для извлечения информации\n",
        "\n",
        "### Оценивание и баллы\n",
        "\n",
        "За это задание в общей сложности можно получить до 7 баллов. Задание частично проверяется автоматически, а частично будет оцениваться вручную. Чтобы получить максимальный балл,  необходимо успешно выполнить приведенные ниже задачи.\n",
        "\n",
        "## Важные замечания\n",
        "\n",
        "1. *Откройте этот файл в своем репозитории на GitHub и скопируйте адрес из адресной строки браузера. Перейдтие в [Google Colab](https://colab.research.google.com/), выберите `Файл -> Открыть ноутбук -> GitHub`, вставьте скопированный URL и нажмите кнопку поиска (кнопка с лупой справа от поля ввода строки для поиска). В Google Colab откроется копия этого ноутбука из персонального репозитория на GitHub.*\n",
        "2. *Не удаляйте и не изменяйте имена переменных в ячейках с кодом ниже. Можно добавлять в каждую ячейку произвольное количество строк кода, главное - сохранить результат решения задачи в предопределенную (-ые) переменную (-ые) в соответствующей ячейке. Если этого не сделать, автоматические тесты не будут пройдены.*\n",
        "3. *Чтобы сохранить работу, выбрите `Файл -> Сохранить копию на GitHub` и __вручную выберите правильный репозиторий из раскрывающегося списка__.*\n",
        "4. *Если в процессе выполнения задания этот файл окажется испорчен, ознакомьтесь с инструкцией в ноутбуке [jupyter_assignment](jupyter_assignment.ipynb), раздел \"Повторная сдача\".*  \n"
      ],
      "id": "a4-Lv403xyOP"
    },
    {
      "cell_type": "markdown",
      "metadata": {
        "id": "iMHt7ZsyxyOW"
      },
      "source": [
        "#### Задачи\n",
        "\n",
        "#### 1. Определить номер варианта\n",
        "Перейдите по ссылке из личного кабинета на Google Таблицу со списком студентов. Найдите свое ФИО в списке и запомните соответствующий порядковый номер (поле № п/п) в первом столбце. Заполните его в ячейке ниже и выполните ячейку. Если вы не можете найти себя в списке, обратитесь к своему преподавателю."
      ],
      "id": "iMHt7ZsyxyOW"
    },
    {
      "cell_type": "code",
      "execution_count": 10,
      "metadata": {
        "id": "XN9SsUH3xyOX"
      },
      "outputs": [],
      "source": [
        "### BEGIN YOUR CODE\n",
        "\n",
        "Student_ID = 14\n",
        "\n",
        "### END YOUR CODE"
      ],
      "id": "XN9SsUH3xyOX"
    },
    {
      "cell_type": "markdown",
      "metadata": {
        "id": "aoSMnwCMxyOa"
      },
      "source": [
        "Теперь выполните следующую ячейку. Она вычислит номер задания и выведет его."
      ],
      "id": "aoSMnwCMxyOa"
    },
    {
      "cell_type": "code",
      "execution_count": 11,
      "metadata": {
        "id": "ZIQRkN1qxyOa",
        "outputId": "0b6cfa84-e4f2-4dae-a9a3-6b46b2c9b056",
        "colab": {
          "base_uri": "https://localhost:8080/"
        }
      },
      "outputs": [
        {
          "output_type": "stream",
          "name": "stdout",
          "text": [
            "Датасет 'Open Food Facts' доступен по следующей ссылке: https://raw.githubusercontent.com/markpolyak/datasets/refs/heads/main/data/en.openfoodfacts.org.products.tsv.tar.bz2\n",
            "В заданиях ниже, где нужно выбрать вопрос, всегда выбирайте вопрос № 3\n"
          ]
        }
      ],
      "source": [
        "datasets = [('Chipotle','https://raw.githubusercontent.com/justmarkham/DAT8/master/data/chipotle.tsv'), ('US Air Carrier market in 2019','https://raw.githubusercontent.com/markpolyak/datasets/refs/heads/main/data/aircarrier_market_us_2019.zip'), ('Open Food Facts', 'https://raw.githubusercontent.com/markpolyak/datasets/refs/heads/main/data/en.openfoodfacts.org.products.tsv.tar.bz2')]\n",
        "\n",
        "dataset_id = None if Student_ID is None else Student_ID % 3\n",
        "if dataset_id is None:\n",
        "    print(\"ОШИБКА! Не указан порядковый номер студента в списке группы.\")\n",
        "else:\n",
        "    print(f\"Датасет '{datasets[dataset_id][0]}' доступен по следующей ссылке: {datasets[dataset_id][1]}\")\n",
        "    print(f\"В заданиях ниже, где нужно выбрать вопрос, всегда выбирайте вопрос № {dataset_id+1}\")"
      ],
      "id": "ZIQRkN1qxyOa"
    },
    {
      "cell_type": "markdown",
      "metadata": {
        "id": "w4vQ8gNsxyOb"
      },
      "source": [
        "Скачайте датасет с помощью команды `!wget <dataset_url>`, где `<dataset_url>` необходимо заменить на ссылку на датасет, появившуюся после выполнения предыдущей ячейки. При необходимости разархивируйте датасет, используя команды `!unzip`, `!tar` и др.\n",
        "\n",
        "*Примечание: в Jupyter-ноутбуке можно использовать любые команды командного интерпретатора bash. Для этого необходимо поставить в ячейке с кодом восклицательный знак `!`, после которого записать команду bash со всеми необходимыми аргументами. Результат выполнения этой команды bash будет возвращен в Jupyter и его можно использовать в коде на Python.*"
      ],
      "id": "w4vQ8gNsxyOb"
    },
    {
      "cell_type": "code",
      "execution_count": null,
      "metadata": {
        "id": "leUMlPNcxyOb"
      },
      "outputs": [],
      "source": [
        "### BEGIN YOUR CODE\n",
        "\n",
        "!wget https://raw.githubusercontent.com/markpolyak/datasets/refs/heads/main/data/en.openfoodfacts.org.products.tsv.tar.bz2\n",
        "\n",
        "# !unzip ...\n",
        "!tar -xf en.openfoodfacts.org.products.tsv.tar.bz2\n",
        "# !gunzip ...\n",
        "\n",
        "### END YOUR CODE"
      ],
      "id": "leUMlPNcxyOb"
    },
    {
      "cell_type": "markdown",
      "metadata": {
        "id": "9eNZsLDAxyOc"
      },
      "source": [
        "##### 2. Загрузите датасет в pandas.DataFrame, сохраните его в переменной `df`. Cконвертируйте названия столбцов в нижний регистр"
      ],
      "id": "9eNZsLDAxyOc"
    },
    {
      "cell_type": "code",
      "execution_count": 15,
      "metadata": {
        "id": "EZpv8q_axyOc"
      },
      "outputs": [],
      "source": [
        "import pandas as pd\n",
        "\n",
        "# Place your code to read the dataset here. Don't forget to import all the libraries you need!\n",
        "df = pd.read_csv(\"en.openfoodfacts.org.products.tsv\", sep='\\t', encoding='utf-8', low_memory=False)"
      ],
      "id": "EZpv8q_axyOc"
    },
    {
      "cell_type": "markdown",
      "metadata": {
        "id": "v53cZqKkxyOd"
      },
      "source": [
        "##### 3. Какие столбцы присутствуют в наборе данных? (0.25 балла)"
      ],
      "id": "v53cZqKkxyOd"
    },
    {
      "cell_type": "code",
      "execution_count": 35,
      "metadata": {
        "id": "w3IoNBZyxyOe",
        "outputId": "509aaf31-b726-4ead-c678-b76db04c1897",
        "colab": {
          "base_uri": "https://localhost:8080/"
        }
      },
      "outputs": [
        {
          "output_type": "stream",
          "name": "stdout",
          "text": [
            "['code', 'url', 'creator', 'created_t', 'created_datetime', 'last_modified_t', 'last_modified_datetime', 'product_name', 'generic_name', 'quantity', 'packaging', 'packaging_tags', 'brands', 'brands_tags', 'categories', 'categories_tags', 'categories_en', 'origins', 'origins_tags', 'manufacturing_places', 'manufacturing_places_tags', 'labels', 'labels_tags', 'labels_en', 'emb_codes', 'emb_codes_tags', 'first_packaging_code_geo', 'cities', 'cities_tags', 'purchase_places', 'stores', 'countries', 'countries_tags', 'countries_en', 'ingredients_text', 'allergens', 'allergens_en', 'traces', 'traces_tags', 'traces_en', 'serving_size', 'no_nutriments', 'additives_n', 'additives', 'additives_tags', 'additives_en', 'ingredients_from_palm_oil_n', 'ingredients_from_palm_oil', 'ingredients_from_palm_oil_tags', 'ingredients_that_may_be_from_palm_oil_n', 'ingredients_that_may_be_from_palm_oil', 'ingredients_that_may_be_from_palm_oil_tags', 'nutrition_grade_uk', 'nutrition_grade_fr', 'pnns_groups_1', 'pnns_groups_2', 'states', 'states_tags', 'states_en', 'main_category', 'main_category_en', 'image_url', 'image_small_url', 'energy_100g', 'energy-from-fat_100g', 'fat_100g', 'saturated-fat_100g', '-butyric-acid_100g', '-caproic-acid_100g', '-caprylic-acid_100g', '-capric-acid_100g', '-lauric-acid_100g', '-myristic-acid_100g', '-palmitic-acid_100g', '-stearic-acid_100g', '-arachidic-acid_100g', '-behenic-acid_100g', '-lignoceric-acid_100g', '-cerotic-acid_100g', '-montanic-acid_100g', '-melissic-acid_100g', 'monounsaturated-fat_100g', 'polyunsaturated-fat_100g', 'omega-3-fat_100g', '-alpha-linolenic-acid_100g', '-eicosapentaenoic-acid_100g', '-docosahexaenoic-acid_100g', 'omega-6-fat_100g', '-linoleic-acid_100g', '-arachidonic-acid_100g', '-gamma-linolenic-acid_100g', '-dihomo-gamma-linolenic-acid_100g', 'omega-9-fat_100g', '-oleic-acid_100g', '-elaidic-acid_100g', '-gondoic-acid_100g', '-mead-acid_100g', '-erucic-acid_100g', '-nervonic-acid_100g', 'trans-fat_100g', 'cholesterol_100g', 'carbohydrates_100g', 'sugars_100g', '-sucrose_100g', '-glucose_100g', '-fructose_100g', '-lactose_100g', '-maltose_100g', '-maltodextrins_100g', 'starch_100g', 'polyols_100g', 'fiber_100g', 'proteins_100g', 'casein_100g', 'serum-proteins_100g', 'nucleotides_100g', 'salt_100g', 'sodium_100g', 'alcohol_100g', 'vitamin-a_100g', 'beta-carotene_100g', 'vitamin-d_100g', 'vitamin-e_100g', 'vitamin-k_100g', 'vitamin-c_100g', 'vitamin-b1_100g', 'vitamin-b2_100g', 'vitamin-pp_100g', 'vitamin-b6_100g', 'vitamin-b9_100g', 'folates_100g', 'vitamin-b12_100g', 'biotin_100g', 'pantothenic-acid_100g', 'silica_100g', 'bicarbonate_100g', 'potassium_100g', 'chloride_100g', 'calcium_100g', 'phosphorus_100g', 'iron_100g', 'magnesium_100g', 'zinc_100g', 'copper_100g', 'manganese_100g', 'fluoride_100g', 'selenium_100g', 'chromium_100g', 'molybdenum_100g', 'iodine_100g', 'caffeine_100g', 'taurine_100g', 'ph_100g', 'fruits-vegetables-nuts_100g', 'fruits-vegetables-nuts-estimate_100g', 'collagen-meat-protein-ratio_100g', 'cocoa_100g', 'chlorophyl_100g', 'carbon-footprint_100g', 'nutrition-score-fr_100g', 'nutrition-score-uk_100g', 'glycemic-index_100g', 'water-hardness_100g']\n",
            "OK\n"
          ]
        }
      ],
      "source": [
        "columns = df.columns.tolist()\n",
        "\n",
        "print(columns)\n",
        "\n",
        "if 'cholesterol_100g' in columns:\n",
        "  print(\"OK\")"
      ],
      "id": "w3IoNBZyxyOe"
    },
    {
      "cell_type": "markdown",
      "metadata": {
        "id": "Up_eNLW5xyOe"
      },
      "source": [
        "##### 4. Ответьте на вопрос и сохраните ответ в переменной `answer1` (0.25 балла)\n",
        "\n",
        "Вопросы:\n",
        "1. Какое блюдо (`item_name`) заказывали чаще всего?\n",
        "2. Сколько авиаперевозчиков (`carrier`) представлены в датасете?\n",
        "3. По скольки продуктам в датасете имеется информация о содержании аллергенов (`allergens`)?"
      ],
      "id": "Up_eNLW5xyOe"
    },
    {
      "cell_type": "code",
      "execution_count": 18,
      "metadata": {
        "id": "jG61jQTUxyOf",
        "outputId": "bb9c3181-fca9-4517-8565-a0f72952c69c",
        "colab": {
          "base_uri": "https://localhost:8080/"
        }
      },
      "outputs": [
        {
          "output_type": "stream",
          "name": "stdout",
          "text": [
            "37176\n"
          ]
        }
      ],
      "source": [
        "answer1 = df['allergens'].notnull().sum()\n",
        "\n",
        "print(answer1)"
      ],
      "id": "jG61jQTUxyOf"
    },
    {
      "cell_type": "markdown",
      "metadata": {
        "id": "mLfCqzkWxyOf"
      },
      "source": [
        "##### 5. Ответьте на вопрос и сохраните ответ в переменной `answer2` (0.5 балла)\n",
        "\n",
        "Вопросы:\n",
        "1. Сколько всего было заказов блюда, название которого сохранено в `answer1`?\n",
        "2. Посчитайте общие суммарные количества перевезенных пассажиров (`passangers`), фунтов груза (`freight`) и почты (`mail`) на маршруте из Великобритании (UK) в США (US). В `answer2` запишите максимальное из трех получившихся чисел.\n",
        "3. Сколько всего продуктов, относящихся к категории \"молочные\" (`Dairies,Milks`), с заполненным названием?"
      ],
      "id": "mLfCqzkWxyOf"
    },
    {
      "cell_type": "code",
      "execution_count": 20,
      "metadata": {
        "id": "fa86LjDTxyOg",
        "outputId": "2bf792ce-85df-4e0e-a6d4-e658a2f62c92",
        "colab": {
          "base_uri": "https://localhost:8080/"
        }
      },
      "outputs": [
        {
          "output_type": "stream",
          "name": "stdout",
          "text": [
            "933\n"
          ]
        }
      ],
      "source": [
        "just_dairies_milks = df['categories'].str.contains('Dairies|Milks', na=False)\n",
        "\n",
        "answer2 =  df[just_dairies_milks]['product_name'].notnull().sum()\n",
        "\n",
        "print(answer2)"
      ],
      "id": "fa86LjDTxyOg"
    },
    {
      "cell_type": "markdown",
      "metadata": {
        "id": "3IyY3HAhxyOg"
      },
      "source": [
        "##### 6. Ответьте на вопрос и сохраните ответ в переменной `answer3` (0.5 балла)\n",
        "\n",
        "Вопросы:\n",
        "1. Какой доход получила сеть Chipotle Mexican Grill на заказах, попавших в датасет?\n",
        "2. Какой авиаперевозчик (`unique_carrier_name`) перевез больше всего груза (`mail` + `freight`)?\n",
        "3. Как называется продукт категории `Fats` с максимальной жирностью, не превышающей 30 г на 100 г продукта?"
      ],
      "id": "3IyY3HAhxyOg"
    },
    {
      "cell_type": "code",
      "execution_count": 26,
      "metadata": {
        "id": "GplpseGGxyOh",
        "outputId": "faeb4787-e40c-4fa2-b14b-391c9e299823",
        "colab": {
          "base_uri": "https://localhost:8080/"
        }
      },
      "outputs": [
        {
          "output_type": "stream",
          "name": "stdout",
          "text": [
            "24\n"
          ]
        }
      ],
      "source": [
        "#Надо проверить\n",
        "fat_lower_30 = df['categories'].str.contains('Fats', na=False) & (df['fat_100g'] <= 30)\n",
        "\n",
        "max_fat = df[fat_lower_30].loc[df[fat_lower_30]['fat_100g'].idxmax()]\n",
        "\n",
        "answer3 = max_fat['product_name']\n",
        "\n",
        "print(answer3)"
      ],
      "id": "GplpseGGxyOh"
    },
    {
      "cell_type": "markdown",
      "metadata": {
        "id": "vigxaGkExyOh"
      },
      "source": [
        "##### 7. Ответьте на вопрос и сохраните ответ в переменной `answer4` (0.5 балла)\n",
        "\n",
        "Вопросы:\n",
        "1. Каков средний доход с одного заказа?\n",
        "2. Какое максимальное количество пассажиров одна авиакомпания смогла перевезти из США в другие страны за все время?\n",
        "3. Какова энергетическая ценность в кДж продукта из России (`category_en`) имеющего максимальное содержание холистерина?"
      ],
      "id": "vigxaGkExyOh"
    },
    {
      "cell_type": "code",
      "execution_count": 42,
      "metadata": {
        "id": "RQETj7KexyOi",
        "outputId": "887f60da-62ee-46c9-ee0e-722eca699a2a",
        "colab": {
          "base_uri": "https://localhost:8080/"
        }
      },
      "outputs": [
        {
          "output_type": "stream",
          "name": "stdout",
          "text": [
            "0\n"
          ]
        }
      ],
      "source": [
        "russian = df[df['categories'].str.contains('Russia', na=False)]\n",
        "\n",
        "answer4 = russian['cholesterol_100g'].notnull().sum()\n",
        "\n",
        "#max_energy = russian.loc[russian['cholesterol_100g'].idxmax(skipna=True)]\n",
        "\n",
        "#answer4 = max_energy['energy_kj_100g']\n",
        "\n",
        "print(answer4)"
      ],
      "id": "RQETj7KexyOi"
    },
    {
      "cell_type": "markdown",
      "metadata": {
        "id": "EMG9mM0MxyOi"
      },
      "source": [
        "##### 8. Ответьте на вопрос и сохраните ответ в переменной `answer5` (1 балл)\n",
        "\n",
        "Вопросы:\n",
        "1. Сколько раз был заказан самый популярный напиток (Coke, Sprite, Mountain Dew и т.п.)?\n",
        "2. Между какими двумя городами было перевезено наибольшее количество пассажиров? Учтите оба направления. Ответ запишите в виде списка из двух строк.\n",
        "3. Привести названия всех аллергенов к нижнему регистру. Какой аллерген встречается в продуктах чаще всего?"
      ],
      "id": "EMG9mM0MxyOi"
    },
    {
      "cell_type": "code",
      "execution_count": null,
      "metadata": {
        "id": "AwMdlUpnxyOj"
      },
      "outputs": [],
      "source": [
        "answer5 = ... # Place your code here instead of '...'\n",
        "\n",
        "print(answer5)"
      ],
      "id": "AwMdlUpnxyOj"
    },
    {
      "cell_type": "markdown",
      "metadata": {
        "id": "t-WsQJFgxyOj"
      },
      "source": [
        "##### 9. Ответьте на вопрос и сохраните ответ в переменной `answer6` (1 балл)\n",
        "\n",
        "Вопросы:\n",
        "1. Какой суммарный доход принесли напитки в заказах вегетарианцев?\n",
        "2. Для пары городов из предыдущего вопроса найдите 3 авиакомпании, которые перевезли больше всего пассажиров. Посчитайте, какой процент от общего пассажиропотока между этими городами перевезла каждая из трех авиакомпаний. В `answer6` запишите найденные проценты в виде списка из трех чисел, округлив их до двух знаков после запятой.\n",
        "3. Найти самый опасный продукт, содержащий наибольшее количество аллергенов."
      ],
      "id": "t-WsQJFgxyOj"
    },
    {
      "cell_type": "code",
      "execution_count": null,
      "metadata": {
        "id": "p1y1Cc-IxyOk"
      },
      "outputs": [],
      "source": [
        "answer6 = ... # Place your code here instead of '...'\n",
        "\n",
        "print(answer6)"
      ],
      "id": "p1y1Cc-IxyOk"
    },
    {
      "cell_type": "markdown",
      "metadata": {
        "id": "lU8LNG4axyOk"
      },
      "source": [
        "##### 10. Ответьте на вопрос и сохраните ответ в переменной `answer7` (1 балл)\n",
        "\n",
        "Вопросы:\n",
        "1. Сколько было сделано вегетарианских заказов? Заказ не считается вегетарианским, если в нем были не вегетарианские блюда.\n",
        "2. Для каждой страны найдите процент международного пассажиропотока (относительно США), используя общее количество пассажиров на рейсах класса F. В `answer7` запишите название страны с третьим по величине пассажиропотоком в/из США.\n",
        "3. Переведите названия групп продуктов (`pnns_groups_1`, `pnns_groups_2`) в нижний регистр. В переменную `answer7` запишите список, содержащий три элемента: название группы продуктов 1, название группы продуктов 2 и среднее количество пищевых волокон (`fiber`) для седьмой по насыщенности пищевыми волокнами группы продуктов."
      ],
      "id": "lU8LNG4axyOk"
    },
    {
      "cell_type": "code",
      "execution_count": null,
      "metadata": {
        "id": "ztcVTHHgxyOl"
      },
      "outputs": [],
      "source": [
        "answer7 = ... # Place your code here instead of '...'\n",
        "\n",
        "print(answer7)"
      ],
      "id": "ztcVTHHgxyOl"
    },
    {
      "cell_type": "markdown",
      "metadata": {
        "id": "3rbzPh0TxyOl"
      },
      "source": [
        "##### 11. Ответьте на вопрос и сохраните ответ в переменной `answer8` (1 балл)\n",
        "\n",
        "Вопросы:\n",
        "1. Какой соус или дополнительный ингредиент по выбору (`choice_description`) чаще всего берут вместе с бурито с курицей (Chicken Burrito)?\n",
        "2. В каком месяце пассажиропоток между городами, записанными в переменную `answer5`, был максимальным?\n",
        "3. Какое название у группы продуктов `pnns_groups_2`, явояющейся наиболее сбалансированной с точки зрения среднего содержания калорий, жиров и углеводов? Под \"сбалансированной\" понимать близость БЖУ к пропорции 1:1:4."
      ],
      "id": "3rbzPh0TxyOl"
    },
    {
      "cell_type": "code",
      "execution_count": null,
      "metadata": {
        "id": "tMaBA5tJxyOl"
      },
      "outputs": [],
      "source": [
        "answer8 = ... # Place your code here instead of '...'\n",
        "\n",
        "print(answer8)"
      ],
      "id": "tMaBA5tJxyOl"
    },
    {
      "cell_type": "markdown",
      "metadata": {
        "id": "gspkLtoCxyOm"
      },
      "source": [
        "##### 12. Визуализируйте данные в соответствии с заданием (1 балл)\n",
        "\n",
        "1. Построить гистограмму распределения общей стоимости заказов. Найти и отметить на графике средний чек и медианную стоимость заказа.\n",
        "2. Постройте стековую столбчатую гистограмму пассажиропотока с разбивкой по городам (отдельные столбцы) и авиакомпаниям (разбивка внутри столбца).\n",
        "3. Построить столбчатую гистограмму усредненной по группам продуктов энергетической ценности, с группировкой по `pnns_groups_1`.\n"
      ],
      "id": "gspkLtoCxyOm"
    },
    {
      "cell_type": "code",
      "execution_count": null,
      "metadata": {
        "id": "QMpcJZWjxyOm"
      },
      "outputs": [],
      "source": [
        "# Place your code here"
      ],
      "id": "QMpcJZWjxyOm"
    }
  ],
  "metadata": {
    "kernelspec": {
      "display_name": "Python 3 (ipykernel)",
      "language": "python",
      "name": "python3"
    },
    "language_info": {
      "codemirror_mode": {
        "name": "ipython",
        "version": 3
      },
      "file_extension": ".py",
      "mimetype": "text/x-python",
      "name": "python",
      "nbconvert_exporter": "python",
      "pygments_lexer": "ipython3",
      "version": "3.7.16"
    },
    "colab": {
      "provenance": []
    }
  },
  "nbformat": 4,
  "nbformat_minor": 5
}