{
  "cells": [
    {
      "cell_type": "markdown",
      "metadata": {
        "id": "L9WL9dxPDPVD"
      },
      "source": [
        "<!--<badge>--><a href=\"https://colab.research.google.com/github/hse-mlwp-2022/assignment2-template/blob/main/matplotlib_assignment.ipynb\" target=\"_parent\"><img src=\"https://colab.research.google.com/assets/colab-badge.svg\" alt=\"Open In Colab\"/></a><!--</badge>-->"
      ]
    },
    {
      "cell_type": "markdown",
      "metadata": {
        "id": "CPmcJXgGDPVF"
      },
      "source": [
        "# Основы машинного обучения: лабораторная работа №1\n",
        "## Задание 2. Знакомство с Matplotlib и LaTeX\n",
        "\n",
        "В этом задании по номеру варианта задана параметризованная математическая функция. Необходимо её оценить и визуализировать на графике с помощью Python.\n",
        "\n",
        "### Цель\n",
        "\n",
        "Научиться выполнять базовые математические операции с помощью `numpy` и визуализировать результаты с помощью `matplotlib`\n",
        "\n",
        "### Оценивание и баллы\n",
        "\n",
        "За это задание в общей сложности можно получить до 3 баллов. Задание частично проверяется автоматически, а частично будет оцениваться вручную. Чтобы получить максимальный балл,  необходимо успешно выполнить приведенные ниже задачи."
      ]
    },
    {
      "cell_type": "markdown",
      "metadata": {
        "id": "CtsDXoxyDPVG"
      },
      "source": [
        "## Часть 1. Определить номер варианта\n",
        "\n",
        "Начнем с импорта библиотеки `numpy`. Она понадобится позже для выполнения некоторых математических операций. Также потребуется библиотека `matplotlib.pyplot`, чтобы визуализировать результаты вычислений."
      ]
    },
    {
      "cell_type": "code",
      "execution_count": 2,
      "metadata": {
        "id": "B5LlOVuQDPVG"
      },
      "outputs": [],
      "source": [
        "import numpy as np\n",
        "from matplotlib import pyplot as plt"
      ]
    },
    {
      "cell_type": "markdown",
      "metadata": {
        "id": "fBgmEbcJDPVI"
      },
      "source": [
        "Перейдите по ссылке из личного кабинета на Google Таблицу со списком студентов. Найдите свое ФИО в списке и запомните соответствующий порядковый номер (поле `№ п/п`) в первом столбце. Заполните его в ячейке ниже и выполните ячейку. Если вы не можете найти себя в списке, обратитесь к своему преподавателю."
      ]
    },
    {
      "cell_type": "code",
      "execution_count": 3,
      "metadata": {
        "id": "nRagTiy0DPVI"
      },
      "outputs": [],
      "source": [
        "### BEGIN YOUR CODE\n",
        "\n",
        "Student_ID = 14\n",
        "\n",
        "### END YOUR CODE"
      ]
    },
    {
      "cell_type": "markdown",
      "metadata": {
        "id": "3sE_4LS8DPVI"
      },
      "source": [
        "Теперь выполните следующую ячейку. Она вычислит номер задания и выведет его."
      ]
    },
    {
      "cell_type": "code",
      "execution_count": 4,
      "metadata": {
        "id": "fLF5sDJ_DPVI",
        "outputId": "328f1a10-d926-4ed6-82a5-330e9683e14e",
        "colab": {
          "base_uri": "https://localhost:8080/"
        }
      },
      "outputs": [
        {
          "output_type": "stream",
          "name": "stdout",
          "text": [
            "Пожалуйста, используйте математическую функци No 14 ниже.\n"
          ]
        }
      ],
      "source": [
        "task_id = None if Student_ID is None else Student_ID % 25 if Student_ID % 25 > 0 else 25\n",
        "print(f\"Пожалуйста, используйте математическую функци No {task_id} ниже.\")"
      ]
    },
    {
      "cell_type": "markdown",
      "metadata": {
        "id": "jXEh1-A4DPVJ"
      },
      "source": [
        "![mathematical_functions.png](https://github.com/hse-mlwp-2022/assignment2-template/raw/main/mathematical_functions.png)"
      ]
    },
    {
      "cell_type": "markdown",
      "metadata": {
        "id": "BxvwQDgMDPVJ"
      },
      "source": [
        "В списке математических функций, представленных выше, $y$, или, более корректно, $y(x)$, является зависимой переменной, полученной в результате вычисления математической функции. $a$, $b$, $c$, $d$ — это скалярные параметры функции, а $x$ — независимая переменная.\n",
        "\n",
        "Теперь, когда функция выбрана, запишите её в ячейке ниже, используя LaTeX, и выполните ячейку, чтобы отобразить её."
      ]
    },
    {
      "cell_type": "markdown",
      "metadata": {
        "id": "ffvrecjkDPVJ"
      },
      "source": [
        "$$ \\begin{equation}\n",
        "  \\begin{cases}\n",
        "    y = \\sqrt{1-(|x|-1)^2}\\\\\n",
        "    y = \\arccos(1-|x|)-\\pi\n",
        "  \\end{cases}\n",
        " \\end{equation} $$"
      ]
    },
    {
      "cell_type": "markdown",
      "metadata": {
        "id": "6h4_UMJSDPVK"
      },
      "source": [
        "## Часть 2. Вычисления в Python\n",
        "\n",
        "Напишите функцию на Python, которая вычисляет математическую функцию $y(x)$ с заданными скалярными параметрами $a$, $b$, $c$, $d$ (если применимо) и списком значений независимой переменной $x$. Найти математические функции, доступные в библиотеке `numpy`, можно [здесь](https://numpy.org/doc/stable/reference/routines.math.html).\n",
        "\n",
        "Пример для функции $y(x) = a \\sin^2x + b\\log_cx$ может выглядеть так:\n",
        "```python\n",
        "def my_function(x,a,b,c,d):\n",
        "    return a * np.sin(x) ** 2 + b * np.log(x) / np.log(c)\n",
        "```"
      ]
    },
    {
      "cell_type": "code",
      "execution_count": 8,
      "metadata": {
        "id": "5Ont1jPKDPVK"
      },
      "outputs": [],
      "source": [
        "def my_function(x,a,b,c,d):\n",
        "  ### BEGIN YOUR CODE\n",
        "  return np.sqrt(1 - (np.abs(x) - 1)**2), np.arccos(1 - np.abs(x)) - np.pi\n",
        "  ### END YOUR CODE"
      ]
    },
    {
      "cell_type": "markdown",
      "metadata": {
        "id": "530v2lQzDPVK"
      },
      "source": [
        "Задайте значения для параметров $a$, $b$, $c$, $d$ и укажите диапазон для переменной $x$:"
      ]
    },
    {
      "cell_type": "code",
      "execution_count": 23,
      "metadata": {
        "id": "DWgLvkfqDPVK"
      },
      "outputs": [],
      "source": [
        "### BEGIN YOUR CODE\n",
        "\n",
        "a = 2\n",
        "b = 2\n",
        "c = 2\n",
        "d = 2\n",
        "x = np.linspace(-10, 10, 10000)\n",
        "\n",
        "### END YOUR CODE"
      ]
    },
    {
      "cell_type": "markdown",
      "metadata": {
        "id": "fx8Cgxo4DPVL"
      },
      "source": [
        "Вычислите значения функции $y(x)$ на интервале `x`, векторно и без использования циклов. Постройте график функции. Измените значения параметров $a$, $b$, $c$, $d$ и $x$ в ячейке выше, чтобы получить аккуратный, понятный и красивый график."
      ]
    },
    {
      "cell_type": "code",
      "execution_count": 27,
      "metadata": {
        "id": "8wa-dwJmDPVL",
        "outputId": "c2e392ab-d0a9-4fe4-eb32-30d92495a4bb",
        "colab": {
          "base_uri": "https://localhost:8080/",
          "height": 614
        }
      },
      "outputs": [
        {
          "output_type": "stream",
          "name": "stderr",
          "text": [
            "<ipython-input-8-35a9dedb6e08>:3: RuntimeWarning: invalid value encountered in sqrt\n",
            "  return np.sqrt(1 - (np.abs(x) - 1)**2), np.arccos(1 - np.abs(x)) - np.pi\n",
            "<ipython-input-8-35a9dedb6e08>:3: RuntimeWarning: invalid value encountered in arccos\n",
            "  return np.sqrt(1 - (np.abs(x) - 1)**2), np.arccos(1 - np.abs(x)) - np.pi\n",
            "WARNING:matplotlib.legend:No artists with labels found to put in legend.  Note that artists whose label start with an underscore are ignored when legend() is called with no argument.\n",
            "WARNING:matplotlib.legend:No artists with labels found to put in legend.  Note that artists whose label start with an underscore are ignored when legend() is called with no argument.\n"
          ]
        },
        {
          "output_type": "display_data",
          "data": {
            "text/plain": [
              "<Figure size 640x480 with 2 Axes>"
            ],
            "image/png": "[encoded data removed]"
          },
          "metadata": {}
        }
      ],
      "source": [
        "### BEGIN YOUR CODE\n",
        "\n",
        "y1, y2 = my_function(x,a,b,c,d)\n",
        "\n",
        "plt.subplot(2, 1, 1)\n",
        "plt.plot(x, y1, color='blue')\n",
        "plt.title('Square Root Value')\n",
        "plt.xlabel('x')\n",
        "plt.grid()\n",
        "plt.legend()\n",
        "\n",
        "plt.subplot(2, 1, 2)\n",
        "plt.plot(x, y2, color='red')\n",
        "plt.title('Arccos Value')\n",
        "plt.xlabel('x')\n",
        "plt.grid()\n",
        "plt.legend()\n",
        "\n",
        "plt.tight_layout()\n",
        "plt.show()\n",
        "### END YOUR CODE"
      ]
    },
    {
      "cell_type": "markdown",
      "metadata": {
        "id": "Gqa1WEarDPVM"
      },
      "source": [
        "### Кастомизируйте свой график\n",
        "\n",
        "Настройте внешний вид рисунка в ячейке выше. Измените цвет графика функции (например, задайте его красным), обновите стиль линии (например, нарисуйте пунктирную линию или штрих-пунктир), добавьте подписи, метки и так далее. Ознакомьтесь с [документацией](https://matplotlib.org/stable/api/_as_gen/matplotlib.pyplot.plot.html) для получения дополнительных сведений. Попробуйте разместить несколько графиков с разными наборами значений параметров $a$, $b$, $c$, $d$ на одном рисунке, используя `subplot`. Посмотрите примеры из официального [руководства](https://matplotlib.org/stable/tutorials/index.html) для вдохновения."
      ]
    },
    {
      "cell_type": "markdown",
      "metadata": {
        "id": "v8E2ciTlDPVM"
      },
      "source": [
        "### Оценивание работы\n",
        "\n",
        "За заполнение расположенных выше ячеек можно получить:\n",
        "- максимум 0.5 балла за корректно заполненную ячейку с математиеской функцией, набранной с помощью LaTeX;\n",
        "- максимум 0.5 балла за корректно работающий код во всех ячейках с кодом;\n",
        "- максимум 2 балла за создание графика с внешним видом \"не по умолчанию\"."
      ]
    },
    {
      "cell_type": "code",
      "execution_count": null,
      "metadata": {
        "id": "bHZlFAD1DPVM"
      },
      "outputs": [],
      "source": []
    }
  ],
  "metadata": {
    "kernelspec": {
      "display_name": "Python 3",
      "language": "python",
      "name": "python3"
    },
    "language_info": {
      "codemirror_mode": {
        "name": "ipython",
        "version": 3
      },
      "file_extension": ".py",
      "mimetype": "text/x-python",
      "name": "python",
      "nbconvert_exporter": "python",
      "pygments_lexer": "ipython3",
      "version": "3.7.16"
    },
    "colab": {
      "provenance": []
    }
  },
  "nbformat": 4,
  "nbformat_minor": 0
}